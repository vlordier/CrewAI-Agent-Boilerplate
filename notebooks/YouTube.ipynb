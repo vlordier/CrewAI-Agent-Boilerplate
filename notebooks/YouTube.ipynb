{
 "cells": [
  {
   "cell_type": "markdown",
   "metadata": {},
   "source": [
    "#   YouTube Transcripts"
   ]
  },
  {
   "cell_type": "code",
   "execution_count": 4,
   "metadata": {},
   "outputs": [],
   "source": [
    "!pip install --upgrade --quiet  youtube-transcript-api langchain_community pytube"
   ]
  },
  {
   "cell_type": "code",
   "execution_count": 7,
   "metadata": {},
   "outputs": [
    {
     "data": {
      "text/plain": [
       "[Document(page_content='LADIES AND GENTLEMEN, PEDRO   PASCAL!  [ CHEERS AND APPLAUSE ]  >> THANK YOU, THANK YOU.  THANK YOU VERY MUCH.  I\\'M SO EXCITED TO BE HERE.  THANK YOU.  I SPENT THE LAST YEAR SHOOTING A  SHOW CALLED \"THE LAST OF US\" ON   HBO.  FOR SOME HBO SHOES, YOU GET TO   SHOOT IN A FIVE STAR ITALIAN   RESORT SURROUNDED BY BEAUTIFUL   PEOPLE, BUT I SAID, NO, THAT\\'S   TOO EASY.  I WANT TO SHOOT IN A FREEZING   CANADIAN FOREST WHILE BEING   CHASED AROUND BY A GUY WHOSE   HEAD LOOKS LIKE A GENITAL WART.  IT IS AN HONOR BEING A PART OF   THESE HUGE FRANCHISEs LIKE \"GAME  OF THRONES\" AND \"STAR WARS,\" BUT  I\\'M STILL GETTING USED TO PEOPLE  RECOGNIZING ME.  THE OTHER DAY, A GUY STOPPED ME   ON THE STREET AND SAYS, MY SON   LOVES \"THE MANDALORIAN\" AND THE   NEXT THING I KNOW, I\\'M FACE   TIMING WITH A 6-YEAR-OLD WHO HAS  NO IDEA WHO I AM BECAUSE MY   CHARACTER WEARS A MASK THE   ENTIRE SHOW.  THE GUY IS LIKE, DO THE MANDO   VOICE, BUT IT\\'S LIKE A BEDROOM   VOICE.  WITHOUT THE MASK, IT JUST SOUNDS  PORNY.  PEOPLE WALKING BY ON THE STREET   SEE ME WHISPERING TO A   6-YEAR-OLD KID.  I CAN BRING YOU IN WARM, OR I   CAN BRING YOU IN COLD.  EVEN THOUGH I CAME TO THE U.S.   WHEN I WAS LITTLE, I WAS BORN IN  CHILE, AND I HAVE 34 FIRST   COUSINS WHO ARE STILL THERE.  THEY\\'RE VERY PROUD OF ME.  I KNOW THEY\\'RE PROUD BECAUSE   THEY GIVE MY PHONE NUMBER TO   EVERY PERSON THEY MEET, WHICH   MEANS EVERY DAY, SOMEONE IN   SANTIAGO WILL TEXT ME STUFF   LIKE, CAN YOU COME TO MY   WEDDING, OR CAN YOU SING MY   PRIEST HAPPY BIRTHDAY, OR IS   BABY YODA MEAN IN REAL LIFE.  SO I HAVE TO BE LIKE NO, NO, AND  HIS NAME IS GROGU.  BUT MY COUSINS WEREN\\'T ALWAYS SO  PROUD.  EARLY IN MY CAREER, I PLAYED   SMALL PARTS IN EVERY CRIME SHOW.  I EVEN PLAYED TWO DIFFERENT   CHARACTERS ON \"LAW AND ORDER.\"  TITO CABASSA WHO LOOKED LIKE   THIS.  AND ONE YEAR LATER, I PLAYED   REGGIE LUCKMAN WHO LOOKS LIKE   THIS.  AND THAT, MY FRIENDS, IS CALLED   RANGE.  BUT IT IS AMAZING TO BE HERE,   LIKE I SAID.  I WAS BORN IN CHILE, AND NINE   MONTHS LATER, MY PARENTS FLED   AND BROUGHT ME AND MY SISTER TO   THE U.S.  THEY WERE SO BRAVE, AND WITHOUT   THEM, I WOULDN\\'T BE HERE IN THIS  WONDERFUL COUNTRY, AND I   CERTAINLY WOULDN\\'T BE STANDING   HERE WITH YOU ALL TONIGHT.  SO TO ALL MY FAMILY WATCHING IN   CHILE, I WANT TO SAY   [ SPEAKING NON-ENGLISH ]  WHICH MEANS, I LOVE YOU, I MISS   YOU, AND STOP GIVING OUT MY   PHONE NUMBER.  WE\\'VE GOT AN AMAZING SHOW FOR   YOU TONIGHT.  COLDPLAY IS HERE, SO STICK', metadata={'source': 'QsYGlZkevEg', 'title': 'Pedro Pascal Monologue - SNL', 'description': 'Unknown', 'view_count': 1835052, 'thumbnail_url': 'https://i.ytimg.com/vi/QsYGlZkevEg/hq720.jpg', 'publish_date': '2023-02-04 00:00:00', 'length': 224, 'author': 'Saturday Night Live'})]"
      ]
     },
     "execution_count": 7,
     "metadata": {},
     "output_type": "execute_result"
    }
   ],
   "source": [
    "from crewai_tools import YoutubeVideoSearchTool\n",
    "from langchain_community.document_loaders import YoutubeLoader\n",
    "\n",
    "loader = YoutubeLoader.from_youtube_url(\n",
    "    \"https://www.youtube.com/watch?v=QsYGlZkevEg\",\n",
    "    add_video_info=True,\n",
    "    language=[\"en\"],\n",
    "    translation=\"en\",\n",
    ")\n",
    "loader.load()"
   ]
  },
  {
   "cell_type": "code",
   "execution_count": 2,
   "metadata": {},
   "outputs": [
    {
     "ename": "TypeError",
     "evalue": "Cannot instantiate typing.Union",
     "output_type": "error",
     "traceback": [
      "\u001b[0;31m---------------------------------------------------------------------------\u001b[0m",
      "\u001b[0;31mTypeError\u001b[0m                                 Traceback (most recent call last)",
      "Cell \u001b[0;32mIn[2], line 1\u001b[0m\n\u001b[0;32m----> 1\u001b[0m \u001b[38;5;28;01mfrom\u001b[39;00m \u001b[38;5;21;01mcrewai_tools\u001b[39;00m \u001b[38;5;28;01mimport\u001b[39;00m YoutubeVideoSearchTool\n\u001b[1;32m      3\u001b[0m \u001b[38;5;66;03m# General search across Youtube content without specifying a video URL, so the agent can search within any Youtube video content it learns about irs url during its operation\u001b[39;00m\n\u001b[1;32m      4\u001b[0m tool \u001b[38;5;241m=\u001b[39m YoutubeVideoSearchTool()\n",
      "File \u001b[0;32m~/Work/Crew_blog/.venv/lib/python3.12/site-packages/crewai_tools/__init__.py:2\u001b[0m\n\u001b[1;32m      1\u001b[0m \u001b[38;5;28;01mfrom\u001b[39;00m \u001b[38;5;21;01m.\u001b[39;00m\u001b[38;5;21;01mtools\u001b[39;00m\u001b[38;5;21;01m.\u001b[39;00m\u001b[38;5;21;01mbase_tool\u001b[39;00m \u001b[38;5;28;01mimport\u001b[39;00m BaseTool, Tool, tool\n\u001b[0;32m----> 2\u001b[0m \u001b[38;5;28;01mfrom\u001b[39;00m \u001b[38;5;21;01m.\u001b[39;00m\u001b[38;5;21;01mtools\u001b[39;00m \u001b[38;5;28;01mimport\u001b[39;00m (\n\u001b[1;32m      3\u001b[0m \tBrowserbaseLoadTool,\n\u001b[1;32m      4\u001b[0m \tCodeDocsSearchTool,\n\u001b[1;32m      5\u001b[0m \tCSVSearchTool,\n\u001b[1;32m      6\u001b[0m \tDirectorySearchTool,\n\u001b[1;32m      7\u001b[0m \tDOCXSearchTool,\n\u001b[1;32m      8\u001b[0m \tDirectoryReadTool,\n\u001b[1;32m      9\u001b[0m  \tEXASearchTool,\n\u001b[1;32m     10\u001b[0m \tFileReadTool,\n\u001b[1;32m     11\u001b[0m \tGithubSearchTool,\n\u001b[1;32m     12\u001b[0m \tSerperDevTool,\n\u001b[1;32m     13\u001b[0m \tTXTSearchTool,\n\u001b[1;32m     14\u001b[0m \tJSONSearchTool,\n\u001b[1;32m     15\u001b[0m \tMDXSearchTool,\n\u001b[1;32m     16\u001b[0m \tPDFSearchTool,\n\u001b[1;32m     17\u001b[0m \tPGSearchTool,\n\u001b[1;32m     18\u001b[0m \tRagTool,\n\u001b[1;32m     19\u001b[0m \tScrapeElementFromWebsiteTool,\n\u001b[1;32m     20\u001b[0m \tScrapeWebsiteTool,\n\u001b[1;32m     21\u001b[0m \tSeleniumScrapingTool,\n\u001b[1;32m     22\u001b[0m \tWebsiteSearchTool,\n\u001b[1;32m     23\u001b[0m \tXMLSearchTool,\n\u001b[1;32m     24\u001b[0m \tYoutubeChannelSearchTool,\n\u001b[1;32m     25\u001b[0m \tYoutubeVideoSearchTool,\n\u001b[1;32m     26\u001b[0m )\n",
      "File \u001b[0;32m~/Work/Crew_blog/.venv/lib/python3.12/site-packages/crewai_tools/tools/__init__.py:6\u001b[0m\n\u001b[1;32m      4\u001b[0m \u001b[38;5;28;01mfrom\u001b[39;00m \u001b[38;5;21;01m.\u001b[39;00m\u001b[38;5;21;01mdirectory_search_tool\u001b[39;00m\u001b[38;5;21;01m.\u001b[39;00m\u001b[38;5;21;01mdirectory_search_tool\u001b[39;00m \u001b[38;5;28;01mimport\u001b[39;00m DirectorySearchTool\n\u001b[1;32m      5\u001b[0m \u001b[38;5;28;01mfrom\u001b[39;00m \u001b[38;5;21;01m.\u001b[39;00m\u001b[38;5;21;01mdirectory_read_tool\u001b[39;00m\u001b[38;5;21;01m.\u001b[39;00m\u001b[38;5;21;01mdirectory_read_tool\u001b[39;00m \u001b[38;5;28;01mimport\u001b[39;00m DirectoryReadTool\n\u001b[0;32m----> 6\u001b[0m \u001b[38;5;28;01mfrom\u001b[39;00m \u001b[38;5;21;01m.\u001b[39;00m\u001b[38;5;21;01mdocx_search_tool\u001b[39;00m\u001b[38;5;21;01m.\u001b[39;00m\u001b[38;5;21;01mdocx_search_tool\u001b[39;00m \u001b[38;5;28;01mimport\u001b[39;00m DOCXSearchTool\n\u001b[1;32m      7\u001b[0m \u001b[38;5;28;01mfrom\u001b[39;00m \u001b[38;5;21;01m.\u001b[39;00m\u001b[38;5;21;01mexa_tools\u001b[39;00m\u001b[38;5;21;01m.\u001b[39;00m\u001b[38;5;21;01mexa_search_tool\u001b[39;00m \u001b[38;5;28;01mimport\u001b[39;00m EXASearchTool\n\u001b[1;32m      8\u001b[0m \u001b[38;5;28;01mfrom\u001b[39;00m \u001b[38;5;21;01m.\u001b[39;00m\u001b[38;5;21;01mfile_read_tool\u001b[39;00m\u001b[38;5;21;01m.\u001b[39;00m\u001b[38;5;21;01mfile_read_tool\u001b[39;00m \u001b[38;5;28;01mimport\u001b[39;00m FileReadTool\n",
      "File \u001b[0;32m~/Work/Crew_blog/.venv/lib/python3.12/site-packages/crewai_tools/tools/docx_search_tool/docx_search_tool.py:9\u001b[0m\n\u001b[1;32m      4\u001b[0m \u001b[38;5;28;01mfrom\u001b[39;00m \u001b[38;5;21;01mpydantic\u001b[39;00m\u001b[38;5;21;01m.\u001b[39;00m\u001b[38;5;21;01mv1\u001b[39;00m \u001b[38;5;28;01mimport\u001b[39;00m BaseModel, Field\n\u001b[1;32m      6\u001b[0m \u001b[38;5;28;01mfrom\u001b[39;00m \u001b[38;5;21;01m.\u001b[39;00m\u001b[38;5;21;01m.\u001b[39;00m\u001b[38;5;21;01mrag\u001b[39;00m\u001b[38;5;21;01m.\u001b[39;00m\u001b[38;5;21;01mrag_tool\u001b[39;00m \u001b[38;5;28;01mimport\u001b[39;00m RagTool\n\u001b[0;32m----> 9\u001b[0m \u001b[38;5;28;43;01mclass\u001b[39;49;00m\u001b[43m \u001b[49m\u001b[38;5;21;43;01mFixedDOCXSearchToolSchema\u001b[39;49;00m\u001b[43m(\u001b[49m\u001b[43mBaseModel\u001b[49m\u001b[43m)\u001b[49m\u001b[43m:\u001b[49m\n\u001b[1;32m     10\u001b[0m \u001b[38;5;250;43m    \u001b[39;49m\u001b[38;5;124;43;03m\"\"\"Input for DOCXSearchTool.\"\"\"\u001b[39;49;00m\n\u001b[1;32m     11\u001b[0m \u001b[43m    \u001b[49m\u001b[43mdocx\u001b[49m\u001b[43m:\u001b[49m\u001b[43m \u001b[49m\u001b[38;5;28;43mstr\u001b[39;49m\u001b[43m \u001b[49m\u001b[38;5;241;43m=\u001b[39;49m\u001b[43m \u001b[49m\u001b[43mOptional\u001b[49m\u001b[43m[\u001b[49m\u001b[43mField\u001b[49m\u001b[43m]\u001b[49m\u001b[43m(\u001b[49m\u001b[38;5;241;43m.\u001b[39;49m\u001b[38;5;241;43m.\u001b[39;49m\u001b[38;5;241;43m.\u001b[39;49m\u001b[43m,\u001b[49m\u001b[43m \u001b[49m\u001b[43mdescription\u001b[49m\u001b[38;5;241;43m=\u001b[39;49m\u001b[38;5;124;43m\"\u001b[39;49m\u001b[38;5;124;43mMandatory docx path you want to search\u001b[39;49m\u001b[38;5;124;43m\"\u001b[39;49m\u001b[43m)\u001b[49m\n",
      "File \u001b[0;32m~/Work/Crew_blog/.venv/lib/python3.12/site-packages/crewai_tools/tools/docx_search_tool/docx_search_tool.py:11\u001b[0m, in \u001b[0;36mFixedDOCXSearchToolSchema\u001b[0;34m()\u001b[0m\n\u001b[1;32m      9\u001b[0m \u001b[38;5;28;01mclass\u001b[39;00m \u001b[38;5;21;01mFixedDOCXSearchToolSchema\u001b[39;00m(BaseModel):\n\u001b[1;32m     10\u001b[0m \u001b[38;5;250m    \u001b[39m\u001b[38;5;124;03m\"\"\"Input for DOCXSearchTool.\"\"\"\u001b[39;00m\n\u001b[0;32m---> 11\u001b[0m     docx: \u001b[38;5;28mstr\u001b[39m \u001b[38;5;241m=\u001b[39m \u001b[43mOptional\u001b[49m\u001b[43m[\u001b[49m\u001b[43mField\u001b[49m\u001b[43m]\u001b[49m\u001b[43m(\u001b[49m\u001b[38;5;241;43m.\u001b[39;49m\u001b[38;5;241;43m.\u001b[39;49m\u001b[38;5;241;43m.\u001b[39;49m\u001b[43m,\u001b[49m\u001b[43m \u001b[49m\u001b[43mdescription\u001b[49m\u001b[38;5;241;43m=\u001b[39;49m\u001b[38;5;124;43m\"\u001b[39;49m\u001b[38;5;124;43mMandatory docx path you want to search\u001b[39;49m\u001b[38;5;124;43m\"\u001b[39;49m\u001b[43m)\u001b[49m\n\u001b[1;32m     12\u001b[0m     search_query: \u001b[38;5;28mstr\u001b[39m \u001b[38;5;241m=\u001b[39m Field(\n\u001b[1;32m     13\u001b[0m         \u001b[38;5;241m.\u001b[39m\u001b[38;5;241m.\u001b[39m\u001b[38;5;241m.\u001b[39m,\n\u001b[1;32m     14\u001b[0m         description\u001b[38;5;241m=\u001b[39m\u001b[38;5;124m\"\u001b[39m\u001b[38;5;124mMandatory search query you want to use to search the DOCX\u001b[39m\u001b[38;5;124m'\u001b[39m\u001b[38;5;124ms content\u001b[39m\u001b[38;5;124m\"\u001b[39m,\n\u001b[1;32m     15\u001b[0m     )\n",
      "File \u001b[0;32m/Library/Frameworks/Python.framework/Versions/3.12/lib/python3.12/typing.py:1133\u001b[0m, in \u001b[0;36m_BaseGenericAlias.__call__\u001b[0;34m(self, *args, **kwargs)\u001b[0m\n\u001b[1;32m   1130\u001b[0m \u001b[38;5;28;01mif\u001b[39;00m \u001b[38;5;129;01mnot\u001b[39;00m \u001b[38;5;28mself\u001b[39m\u001b[38;5;241m.\u001b[39m_inst:\n\u001b[1;32m   1131\u001b[0m     \u001b[38;5;28;01mraise\u001b[39;00m \u001b[38;5;167;01mTypeError\u001b[39;00m(\u001b[38;5;124mf\u001b[39m\u001b[38;5;124m\"\u001b[39m\u001b[38;5;124mType \u001b[39m\u001b[38;5;132;01m{\u001b[39;00m\u001b[38;5;28mself\u001b[39m\u001b[38;5;241m.\u001b[39m_name\u001b[38;5;132;01m}\u001b[39;00m\u001b[38;5;124m cannot be instantiated; \u001b[39m\u001b[38;5;124m\"\u001b[39m\n\u001b[1;32m   1132\u001b[0m                     \u001b[38;5;124mf\u001b[39m\u001b[38;5;124m\"\u001b[39m\u001b[38;5;124muse \u001b[39m\u001b[38;5;132;01m{\u001b[39;00m\u001b[38;5;28mself\u001b[39m\u001b[38;5;241m.\u001b[39m__origin__\u001b[38;5;241m.\u001b[39m\u001b[38;5;18m__name__\u001b[39m\u001b[38;5;132;01m}\u001b[39;00m\u001b[38;5;124m() instead\u001b[39m\u001b[38;5;124m\"\u001b[39m)\n\u001b[0;32m-> 1133\u001b[0m result \u001b[38;5;241m=\u001b[39m \u001b[38;5;28;43mself\u001b[39;49m\u001b[38;5;241;43m.\u001b[39;49m\u001b[43m__origin__\u001b[49m\u001b[43m(\u001b[49m\u001b[38;5;241;43m*\u001b[39;49m\u001b[43margs\u001b[49m\u001b[43m,\u001b[49m\u001b[43m \u001b[49m\u001b[38;5;241;43m*\u001b[39;49m\u001b[38;5;241;43m*\u001b[39;49m\u001b[43mkwargs\u001b[49m\u001b[43m)\u001b[49m\n\u001b[1;32m   1134\u001b[0m \u001b[38;5;28;01mtry\u001b[39;00m:\n\u001b[1;32m   1135\u001b[0m     result\u001b[38;5;241m.\u001b[39m__orig_class__ \u001b[38;5;241m=\u001b[39m \u001b[38;5;28mself\u001b[39m\n",
      "File \u001b[0;32m/Library/Frameworks/Python.framework/Versions/3.12/lib/python3.12/typing.py:473\u001b[0m, in \u001b[0;36m_SpecialForm.__call__\u001b[0;34m(self, *args, **kwds)\u001b[0m\n\u001b[1;32m    472\u001b[0m \u001b[38;5;28;01mdef\u001b[39;00m \u001b[38;5;21m__call__\u001b[39m(\u001b[38;5;28mself\u001b[39m, \u001b[38;5;241m*\u001b[39margs, \u001b[38;5;241m*\u001b[39m\u001b[38;5;241m*\u001b[39mkwds):\n\u001b[0;32m--> 473\u001b[0m     \u001b[38;5;28;01mraise\u001b[39;00m \u001b[38;5;167;01mTypeError\u001b[39;00m(\u001b[38;5;124mf\u001b[39m\u001b[38;5;124m\"\u001b[39m\u001b[38;5;124mCannot instantiate \u001b[39m\u001b[38;5;132;01m{\u001b[39;00m\u001b[38;5;28mself\u001b[39m\u001b[38;5;132;01m!r}\u001b[39;00m\u001b[38;5;124m\"\u001b[39m)\n",
      "\u001b[0;31mTypeError\u001b[0m: Cannot instantiate typing.Union"
     ]
    }
   ],
   "source": [
    "# General search across Youtube content without specifying a video URL, so the agent can search within any Youtube video content it learns about irs url during its operation\n",
    "tool = YoutubeVideoSearchTool()\n",
    "tool.search(\"How to make a cake\")"
   ]
  },
  {
   "cell_type": "code",
   "execution_count": null,
   "metadata": {},
   "outputs": [],
   "source": []
  }
 ],
 "metadata": {
  "kernelspec": {
   "display_name": ".venv",
   "language": "python",
   "name": "python3"
  },
  "language_info": {
   "codemirror_mode": {
    "name": "ipython",
    "version": 3
   },
   "file_extension": ".py",
   "mimetype": "text/x-python",
   "name": "python",
   "nbconvert_exporter": "python",
   "pygments_lexer": "ipython3",
   "version": "3.12.0"
  }
 },
 "nbformat": 4,
 "nbformat_minor": 2
}
